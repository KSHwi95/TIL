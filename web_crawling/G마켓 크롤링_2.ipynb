{
 "cells": [
  {
   "cell_type": "markdown",
   "id": "4099c3d6",
   "metadata": {},
   "source": [
    "## 카테고리별로 데이터 수집해서 각 카테고리별 평균 가격을 시각화"
   ]
  },
  {
   "cell_type": "code",
   "execution_count": 1,
   "id": "dc2f55b4",
   "metadata": {},
   "outputs": [],
   "source": [
    "import requests\n",
    "from bs4 import BeautifulSoup"
   ]
  },
  {
   "cell_type": "code",
   "execution_count": 18,
   "id": "d1f183e1",
   "metadata": {},
   "outputs": [],
   "source": [
    "import pandas as pd"
   ]
  },
  {
   "cell_type": "code",
   "execution_count": 15,
   "id": "518419eb",
   "metadata": {},
   "outputs": [],
   "source": [
    "# 가격데이터 #1 패션/의류\n",
    "GMARKET_PRODUCT_URL=\"https://corners.gmarket.co.kr/Bestsellers?viewType=G&groupCode=G01\"\n",
    "response = requests.get(GMARKET_PRODUCT_URL)\n",
    "html_code = response.content\n",
    "soup = BeautifulSoup(html_code, 'html.parser')\n",
    "fashion_price_list=[]\n",
    "price_list=[]\n",
    "for i in range(100):\n",
    "  if \"할인가\" not in soup.select(\".item_price\")[i].text:\n",
    "    price_list.append(soup.select(\".item_price > .o-price\")[i].text.split('정가')[1])\n",
    "  elif \"할인가\" in soup.select(\".item_price\")[i].text:\n",
    "    price_list.append(soup.select(\".item_price > .s-price > strong\")[i].text)\n",
    "\n",
    "# ,/원 없애는 작업\n",
    "for i in range(100):\n",
    "    fashion_price_list.append(int(price_list[i].split('원')[0].replace(',','')))\n",
    "\n",
    "fashion={'패션':fashion_price_list}\n",
    "fashion=pd.DataFrame(fashion)"
   ]
  },
  {
   "cell_type": "code",
   "execution_count": 35,
   "id": "f0af12d9",
   "metadata": {},
   "outputs": [],
   "source": [
    "GMARKET_PRODUCT_URL=\"https://corners.gmarket.co.kr/Bestsellers?viewType=G&groupCode=G02\"\n",
    "response = requests.get(GMARKET_PRODUCT_URL)\n",
    "html_code = response.content\n",
    "soup = BeautifulSoup(html_code, 'html.parser')\n",
    "shoe_price_list=[]\n",
    "price_list=[]\n",
    "for i in range(100):\n",
    "  if \"할인가\" not in soup.select(\".item_price\")[i].text:\n",
    "    price_list.append(soup.select(\".item_price > .o-price\")[i].text.split('정가')[1])\n",
    "  elif \"할인가\" in soup.select(\".item_price\")[i].text:\n",
    "    price_list.append(soup.select(\".item_price > .s-price > strong\")[i].text)\n",
    "\n",
    "# ,/원 없애는 작업\n",
    "for i in range(100):\n",
    "    shoe_price_list.append(int(price_list[i].split('원')[0].replace(',','')))\n",
    "\n",
    "shoe={'신발/잡화':shoe_price_list}\n",
    "shoe=pd.DataFrame(shoe)"
   ]
  },
  {
   "cell_type": "code",
   "execution_count": 39,
   "id": "57ee485c",
   "metadata": {},
   "outputs": [],
   "source": [
    "GMARKET_PRODUCT_URL=\"https://corners.gmarket.co.kr/Bestsellers?viewType=G&groupCode=G03\"\n",
    "response = requests.get(GMARKET_PRODUCT_URL)\n",
    "html_code = response.content\n",
    "soup = BeautifulSoup(html_code, 'html.parser')\n",
    "cosmetics_price_list=[]\n",
    "price_list=[]\n",
    "for i in range(100):\n",
    "  if \"할인가\" not in soup.select(\".item_price\")[i].text:\n",
    "    price_list.append(soup.select(\".item_price > .o-price\")[i].text.split('정가')[1])\n",
    "  elif \"할인가\" in soup.select(\".item_price\")[i].text:\n",
    "    price_list.append(soup.select(\".item_price > .s-price > strong\")[i].text)\n",
    "\n",
    "# ,/원 없애는 작업\n",
    "for i in range(100):\n",
    "    cosmetics_price_list.append(int(price_list[i].split('원')[0].replace(',','')))\n",
    "\n",
    "cosmetics={'화장품/헤어':cosmetics_price_list}\n",
    "cosmetics=pd.DataFrame(cosmetics)"
   ]
  },
  {
   "cell_type": "code",
   "execution_count": 41,
   "id": "c973bf08",
   "metadata": {},
   "outputs": [],
   "source": [
    "GMARKET_PRODUCT_URL=\"https://corners.gmarket.co.kr/Bestsellers?viewType=G&groupCode=G04\"\n",
    "response = requests.get(GMARKET_PRODUCT_URL)\n",
    "html_code = response.content\n",
    "soup = BeautifulSoup(html_code, 'html.parser')\n",
    "baby_price_list=[]\n",
    "price_list=[]\n",
    "for i in range(100):\n",
    "  if \"할인가\" not in soup.select(\".item_price\")[i].text:\n",
    "    price_list.append(soup.select(\".item_price > .o-price\")[i].text.split('정가')[1])\n",
    "  elif \"할인가\" in soup.select(\".item_price\")[i].text:\n",
    "    price_list.append(soup.select(\".item_price > .s-price > strong\")[i].text)\n",
    "\n",
    "# ,/원 없애는 작업\n",
    "for i in range(100):\n",
    "    baby_price_list.append(int(price_list[i].split('원')[0].replace(',','')))\n",
    "\n",
    "baby={'유아동/출산':baby_price_list}\n",
    "baby=pd.DataFrame(baby)"
   ]
  },
  {
   "cell_type": "code",
   "execution_count": 43,
   "id": "eede36d7",
   "metadata": {},
   "outputs": [],
   "source": [
    "GMARKET_PRODUCT_URL=\"https://corners.gmarket.co.kr/Bestsellers?viewType=G&groupCode=G07\"\n",
    "response = requests.get(GMARKET_PRODUCT_URL)\n",
    "html_code = response.content\n",
    "soup = BeautifulSoup(html_code, 'html.parser')\n",
    "food_price_list=[]\n",
    "price_list=[]\n",
    "for i in range(100):\n",
    "  if \"할인가\" not in soup.select(\".item_price\")[i].text:\n",
    "    price_list.append(soup.select(\".item_price > .o-price\")[i].text.split('정가')[1])\n",
    "  elif \"할인가\" in soup.select(\".item_price\")[i].text:\n",
    "    price_list.append(soup.select(\".item_price > .s-price > strong\")[i].text)\n",
    "\n",
    "# ,/원 없애는 작업\n",
    "for i in range(100):\n",
    "    food_price_list.append(int(price_list[i].split('원')[0].replace(',','')))\n",
    "\n",
    "food={'식품':food_price_list}\n",
    "food=pd.DataFrame(food)"
   ]
  },
  {
   "cell_type": "code",
   "execution_count": 46,
   "id": "8823f6c7",
   "metadata": {},
   "outputs": [],
   "source": [
    "GMARKET_PRODUCT_URL=\"https://corners.gmarket.co.kr/Bestsellers?viewType=G&groupCode=G08\"\n",
    "response = requests.get(GMARKET_PRODUCT_URL)\n",
    "html_code = response.content\n",
    "soup = BeautifulSoup(html_code, 'html.parser')\n",
    "life_price_list=[]\n",
    "price_list=[]\n",
    "for i in range(100):\n",
    "  if \"할인가\" not in soup.select(\".item_price\")[i].text:\n",
    "    price_list.append(soup.select(\".item_price > .o-price\")[i].text.split('정가')[1])\n",
    "  elif \"할인가\" in soup.select(\".item_price\")[i].text:\n",
    "    price_list.append(soup.select(\".item_price > .s-price > strong\")[i].text)\n",
    "\n",
    "# ,/원 없애는 작업\n",
    "for i in range(100):\n",
    "    life_price_list.append(int(price_list[i].split('원')[0].replace(',','')))\n",
    "\n",
    "life={'생활/주방/건강':life_price_list}\n",
    "life=pd.DataFrame(life)"
   ]
  },
  {
   "cell_type": "code",
   "execution_count": 48,
   "id": "03c95c47",
   "metadata": {},
   "outputs": [],
   "source": [
    "GMARKET_PRODUCT_URL=\"https://corners.gmarket.co.kr/Bestsellers?viewType=G&groupCode=G09\"\n",
    "response = requests.get(GMARKET_PRODUCT_URL)\n",
    "html_code = response.content\n",
    "soup = BeautifulSoup(html_code, 'html.parser')\n",
    "furniture_price_list=[]\n",
    "price_list=[]\n",
    "for i in range(100):\n",
    "  if \"할인가\" not in soup.select(\".item_price\")[i].text:\n",
    "    price_list.append(soup.select(\".item_price > .o-price\")[i].text.split('정가')[1])\n",
    "  elif \"할인가\" in soup.select(\".item_price\")[i].text:\n",
    "    price_list.append(soup.select(\".item_price > .s-price > strong\")[i].text)\n",
    "\n",
    "# ,/원 없애는 작업\n",
    "for i in range(100):\n",
    "    furniture_price_list.append(int(price_list[i].split('원')[0].replace(',','')))\n",
    "\n",
    "furniture={'가구/침구':furniture_price_list}\n",
    "furniture=pd.DataFrame(furniture)"
   ]
  },
  {
   "cell_type": "code",
   "execution_count": 68,
   "id": "5c0a133d",
   "metadata": {},
   "outputs": [],
   "source": [
    "GMARKET_PRODUCT_URL=\"https://corners.gmarket.co.kr/Bestsellers?viewType=G&groupCode=G05\"\n",
    "response = requests.get(GMARKET_PRODUCT_URL)\n",
    "html_code = response.content\n",
    "soup = BeautifulSoup(html_code, 'html.parser')\n",
    "sports_price_list=[]\n",
    "price_list=[]\n",
    "for i in range(100):\n",
    "  if \"할인가\" not in soup.select(\".item_price\")[i].text:\n",
    "    price_list.append(soup.select(\".item_price > .o-price\")[i].text.split('정가')[1])\n",
    "  elif \"할인가\" in soup.select(\".item_price\")[i].text:\n",
    "    price_list.append(soup.select(\".item_price > .s-price > strong\")[i].text)\n",
    "\n",
    "# ,/원 없애는 작업\n",
    "for i in range(100):\n",
    "    sports_price_list.append(int(price_list[i].split('원')[0].replace(',','')))\n",
    "\n",
    "sports={'스포츠/자동차':sports_price_list}\n",
    "sports=pd.DataFrame(sports)"
   ]
  },
  {
   "cell_type": "code",
   "execution_count": 69,
   "id": "09a9e7d4",
   "metadata": {},
   "outputs": [],
   "source": [
    "GMARKET_PRODUCT_URL=\"https://corners.gmarket.co.kr/Bestsellers?viewType=G&groupCode=G06\"\n",
    "response = requests.get(GMARKET_PRODUCT_URL)\n",
    "html_code = response.content\n",
    "soup = BeautifulSoup(html_code, 'html.parser')\n",
    "electronics_price_list=[]\n",
    "price_list=[]\n",
    "for i in range(100):\n",
    "  if \"할인가\" not in soup.select(\".item_price\")[i].text:\n",
    "    price_list.append(soup.select(\".item_price > .o-price\")[i].text.split('정가')[1])\n",
    "  elif \"할인가\" in soup.select(\".item_price\")[i].text:\n",
    "    price_list.append(soup.select(\".item_price > .s-price > strong\")[i].text)\n",
    "\n",
    "# ,/원 없애는 작업\n",
    "for i in range(100):\n",
    "    electronics_price_list.append(int(price_list[i].split('원')[0].replace(',','')))\n",
    "\n",
    "electronics={'컴퓨터/전자':electronics_price_list}\n",
    "electronics=pd.DataFrame(electronics)"
   ]
  },
  {
   "cell_type": "code",
   "execution_count": 55,
   "id": "764709a2",
   "metadata": {},
   "outputs": [],
   "source": [
    "GMARKET_PRODUCT_URL=\"https://corners.gmarket.co.kr/Bestsellers?viewType=G&groupCode=G10\"\n",
    "response = requests.get(GMARKET_PRODUCT_URL)\n",
    "html_code = response.content\n",
    "soup = BeautifulSoup(html_code, 'html.parser')\n",
    "book_price_list=[]\n",
    "price_list=[]\n",
    "for i in range(100):\n",
    "  if \"할인가\" not in soup.select(\".item_price\")[i].text:\n",
    "    price_list.append(soup.select(\".item_price > .o-price\")[i].text.split('정가')[1])\n",
    "  elif \"할인가\" in soup.select(\".item_price\")[i].text:\n",
    "    price_list.append(soup.select(\".item_price > .s-price > strong\")[i].text)\n",
    "\n",
    "# ,/원 없애는 작업\n",
    "for i in range(100):\n",
    "    book_price_list.append(int(price_list[i].split('원')[0].replace(',','')))\n",
    "\n",
    "book={'도서/음반':book_price_list}\n",
    "book=pd.DataFrame(book)"
   ]
  },
  {
   "cell_type": "code",
   "execution_count": 57,
   "id": "70f45625",
   "metadata": {},
   "outputs": [],
   "source": [
    "GMARKET_PRODUCT_URL=\"https://corners.gmarket.co.kr/Bestsellers?viewType=G&groupCode=G11\"\n",
    "response = requests.get(GMARKET_PRODUCT_URL)\n",
    "html_code = response.content\n",
    "soup = BeautifulSoup(html_code, 'html.parser')\n",
    "travel_price_list=[]\n",
    "price_list=[]\n",
    "for i in range(100):\n",
    "  if \"할인가\" not in soup.select(\".item_price\")[i].text:\n",
    "    price_list.append(soup.select(\".item_price > .o-price\")[i].text.split('정가')[1])\n",
    "  elif \"할인가\" in soup.select(\".item_price\")[i].text:\n",
    "    price_list.append(soup.select(\".item_price > .s-price > strong\")[i].text)\n",
    "\n",
    "# ,/원 없애는 작업\n",
    "for i in range(100):\n",
    "    travel_price_list.append(int(price_list[i].split('원')[0].replace(',','')))\n",
    "\n",
    "travel={'여행':travel_price_list}\n",
    "travel=pd.DataFrame(travel)"
   ]
  },
  {
   "cell_type": "code",
   "execution_count": 72,
   "id": "364ec574",
   "metadata": {},
   "outputs": [],
   "source": [
    "GMARKET_PRODUCT_URL=\"https://corners.gmarket.co.kr/Bestsellers?viewType=G&groupCode=G12\"\n",
    "response = requests.get(GMARKET_PRODUCT_URL)\n",
    "html_code = response.content\n",
    "soup = BeautifulSoup(html_code, 'html.parser')\n",
    "ecoupon_price_list=[]\n",
    "price_list=[]\n",
    "for i in range(100):\n",
    "  if \"할인가\" not in soup.select(\".item_price\")[i].text:\n",
    "    price_list.append(soup.select(\".item_price > .o-price\")[i].text.split('정가')[1])\n",
    "  elif \"할인가\" in soup.select(\".item_price\")[i].text:\n",
    "    price_list.append(soup.select(\".item_price > .s-price > strong\")[i].text)\n",
    "\n",
    "# ,/원 없애는 작업\n",
    "for i in range(100):\n",
    "    ecoupon_price_list.append(int(price_list[i].split('원')[0].replace(',','')))\n",
    "\n",
    "ecoupon={'e쿠폰':ecoupon_price_list}\n",
    "ecoupon=pd.DataFrame(ecoupon)"
   ]
  },
  {
   "cell_type": "code",
   "execution_count": 73,
   "id": "cc374e4b",
   "metadata": {},
   "outputs": [
    {
     "data": {
      "text/plain": [
       "(패션    24597.4\n",
       " dtype: float64,\n",
       " 신발/잡화    36041.3\n",
       " dtype: float64,\n",
       " 화장품/헤어    28260.8\n",
       " dtype: float64,\n",
       " 유아동/출산    30253.2\n",
       " dtype: float64,\n",
       " 식품    28707.0\n",
       " dtype: float64,\n",
       " 생활/주방/건강    25316.5\n",
       " dtype: float64,\n",
       " 가구/침구    34529.1\n",
       " dtype: float64,\n",
       " 스포츠/자동차    52813.0\n",
       " dtype: float64,\n",
       " 컴퓨터/전자    209548.9\n",
       " dtype: float64,\n",
       " 도서/음반    90695.0\n",
       " dtype: float64,\n",
       " 여행    254574.7\n",
       " dtype: float64,\n",
       " e쿠폰    47325.4\n",
       " dtype: float64)"
      ]
     },
     "execution_count": 73,
     "metadata": {},
     "output_type": "execute_result"
    }
   ],
   "source": [
    "# 평균가 비교 test\n",
    "fashion.mean(),shoe.mean(),cosmetics.mean(),baby.mean(),food.mean(),life.mean(),furniture.mean(),sports.mean(),electronics.mean(),book.mean(),travel.mean(),ecoupon.mean()"
   ]
  },
  {
   "cell_type": "code",
   "execution_count": null,
   "id": "ed464863",
   "metadata": {},
   "outputs": [],
   "source": [
    "import matplotlib.pyplot as plt\n",
    "plt.rcParams['font.family'] = 'NanumGothic'"
   ]
  },
  {
   "cell_type": "code",
   "execution_count": 120,
   "id": "2dec8711",
   "metadata": {},
   "outputs": [
    {
     "data": {
      "image/png": "[encoded data removed]",
      "text/plain": [
       "<Figure size 640x480 with 1 Axes>"
      ]
     },
     "metadata": {},
     "output_type": "display_data"
    }
   ],
   "source": [
    "df=pd.DataFrame({\"패션\":fashion_price_list,\n",
    "       \"신발/잡화\":shoe_price_list,\n",
    "       \"화장품/헤어\":cosmetics_price_list,\n",
    "       \"유아동/출산\":baby_price_list,\n",
    "       \"식품\":food_price_list,\n",
    "       \"생활/주방/건강\":life_price_list,\n",
    "       \"가구/침구\":furniture_price_list,\n",
    "       \"스포츠/자동차\":sports_price_list,\n",
    "       \"컴퓨터/전자\":electronics_price_list,\n",
    "       \"도서/음반\":book_price_list,\n",
    "       \"여행\":travel_price_list,\n",
    "       \"e쿠폰\":ecoupon_price_list\n",
    "   })\n",
    "\n",
    "\n",
    "# 열의 평균 계산\n",
    "means = df.mean()\n",
    "\n",
    "# 막대 그래프 생성\n",
    "plt.bar(means.index, means.values,width=0.5)\n",
    "\n",
    "# 그래프 제목, 축 레이블 설정\n",
    "plt.title('가격 평균',size=10)\n",
    "plt.xlabel('Columns',size=10)\n",
    "plt.xticks(rotation=45)\n",
    "plt.ylabel('Mean',size=10)\n",
    "\n",
    "# 그래프 출력\n",
    "plt.show()"
   ]
  },
  {
   "cell_type": "code",
   "execution_count": null,
   "id": "89aae96e",
   "metadata": {},
   "outputs": [],
   "source": []
  }
 ],
 "metadata": {
  "kernelspec": {
   "display_name": "Python 3 (ipykernel)",
   "language": "python",
   "name": "python3"
  },
  "language_info": {
   "codemirror_mode": {
    "name": "ipython",
    "version": 3
   },
   "file_extension": ".py",
   "mimetype": "text/x-python",
   "name": "python",
   "nbconvert_exporter": "python",
   "pygments_lexer": "ipython3",
   "version": "3.9.13"
  }
 },
 "nbformat": 4,
 "nbformat_minor": 5
}
