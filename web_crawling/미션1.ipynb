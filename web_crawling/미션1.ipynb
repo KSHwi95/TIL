{
 "cells": [
  {
   "cell_type": "markdown",
   "id": "db92244e",
   "metadata": {},
   "source": [
    "# **미션** \n",
    "3월 28일 네이버 금융 증시 현황 홈페이지 : 데이터로 추출하여 표로 만들기"
   ]
  },
  {
   "cell_type": "code",
   "execution_count": 1,
   "id": "aad73fb4",
   "metadata": {},
   "outputs": [
    {
     "data": {
      "text/html": [
       "<div>\n",
       "<style scoped>\n",
       "    .dataframe tbody tr th:only-of-type {\n",
       "        vertical-align: middle;\n",
       "    }\n",
       "\n",
       "    .dataframe tbody tr th {\n",
       "        vertical-align: top;\n",
       "    }\n",
       "\n",
       "    .dataframe thead th {\n",
       "        text-align: right;\n",
       "    }\n",
       "</style>\n",
       "<table border=\"1\" class=\"dataframe\">\n",
       "  <thead>\n",
       "    <tr style=\"text-align: right;\">\n",
       "      <th></th>\n",
       "      <th>국가</th>\n",
       "      <th>환율</th>\n",
       "      <th>등락</th>\n",
       "      <th>변화</th>\n",
       "    </tr>\n",
       "  </thead>\n",
       "  <tbody>\n",
       "    <tr>\n",
       "      <th>0</th>\n",
       "      <td>미국 USD</td>\n",
       "      <td>1,301.00</td>\n",
       "      <td>하락</td>\n",
       "      <td>1.00</td>\n",
       "    </tr>\n",
       "    <tr>\n",
       "      <th>1</th>\n",
       "      <td>일본 JPY(100엔)</td>\n",
       "      <td>994.84</td>\n",
       "      <td>상승</td>\n",
       "      <td>3.56</td>\n",
       "    </tr>\n",
       "    <tr>\n",
       "      <th>2</th>\n",
       "      <td>유럽연합 EUR</td>\n",
       "      <td>1,410.48</td>\n",
       "      <td>상승</td>\n",
       "      <td>7.18</td>\n",
       "    </tr>\n",
       "    <tr>\n",
       "      <th>3</th>\n",
       "      <td>중국 CNY</td>\n",
       "      <td>189.21</td>\n",
       "      <td>상승</td>\n",
       "      <td>0.22</td>\n",
       "    </tr>\n",
       "  </tbody>\n",
       "</table>\n",
       "</div>"
      ],
      "text/plain": [
       "             국가        환율  등락     변화\n",
       "0        미국 USD  1,301.00  하락   1.00\n",
       "1  일본 JPY(100엔)    994.84  상승   3.56\n",
       "2      유럽연합 EUR  1,410.48  상승   7.18\n",
       "3        중국 CNY    189.21  상승   0.22"
      ]
     },
     "execution_count": 1,
     "metadata": {},
     "output_type": "execute_result"
    }
   ],
   "source": [
    "NAVER_FINANCE_URL = \"https://finance.naver.com/marketindex/\"\n",
    "\n",
    "import requests\n",
    "from bs4 import BeautifulSoup\n",
    "import pandas as pd\n",
    "\n",
    "response = requests.get(NAVER_FINANCE_URL)\n",
    "html_code = response.content\n",
    "soup = BeautifulSoup(html_code, 'html.parser')\n",
    "d1=soup.select(\"#exchangeList > li > a> h3\")\n",
    "d2=soup.select(\"#exchangeList > li > a > div > .value\")\n",
    "d3=soup.select(\"#exchangeList > li > a > div > .blind\")\n",
    "d4=soup.select(\"#exchangeList > li > a > div > .change\")\n",
    "\n",
    "country=[]\n",
    "for data in d1:\n",
    "  country.append(data.text)\n",
    "\n",
    "value=[]\n",
    "for data in d2:\n",
    "  value.append(data.text)\n",
    "\n",
    "up_down=[]\n",
    "for data in d3:\n",
    "  up_down.append(data.text)\n",
    "\n",
    "change=[]\n",
    "for data in d4:\n",
    "  change.append(data.text)\n",
    "\n",
    "data={\"국가\":country,\"환율\":value,\"등락\":up_down,\"변화\":change}\n",
    "\n",
    "pd.DataFrame(data)"
   ]
  }
 ],
 "metadata": {
  "kernelspec": {
   "display_name": "Python 3 (ipykernel)",
   "language": "python",
   "name": "python3"
  },
  "language_info": {
   "codemirror_mode": {
    "name": "ipython",
    "version": 3
   },
   "file_extension": ".py",
   "mimetype": "text/x-python",
   "name": "python",
   "nbconvert_exporter": "python",
   "pygments_lexer": "ipython3",
   "version": "3.9.13"
  }
 },
 "nbformat": 4,
 "nbformat_minor": 5
}
